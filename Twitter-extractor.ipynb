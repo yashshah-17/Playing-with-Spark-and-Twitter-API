{
 "cells": [
  {
   "cell_type": "code",
   "execution_count": 1,
   "metadata": {},
   "outputs": [
    {
     "name": "stdout",
     "output_type": "stream",
     "text": [
      "Canada  Stored\n",
      "University  Stored\n",
      "Dalhousie University  Stored\n",
      "Halifax  Stored\n",
      "Canada Education  Stored\n",
      "Done\n"
     ]
    }
   ],
   "source": [
    "# Importing the necessary packages\n",
    "import os\n",
    "import tweepy as tw\n",
    "import pandas as pd\n",
    "import csv\n",
    "\n",
    "\n",
    "# Defining and opening a csv file to store the data\n",
    "csvfile = open(\"Twitter.csv\", 'wt', newline='', encoding=\"utf-8\")\n",
    "writer = csv.writer(csvfile)\n",
    "\n",
    "\n",
    "# Defining the headers inside the csv file\n",
    "csvrow = []\n",
    "csvrow.append(\"Time\")\n",
    "csvrow.append(\"Username\")\n",
    "csvrow.append(\"Location\")\n",
    "csvrow.append(\"Tweet Content\")\n",
    "writer.writerow(csvrow)\n",
    "\n",
    "\n",
    "# Assigning the required credentials to access the Twitter API\n",
    "consumer_key= 'OxY264Cj8OjmT4FdwfzyZRRr7'\n",
    "consumer_secret= 'RERK7ApRTY6jIfkCzgM2XUSNIvzmtG3OsuFG8v3KfL0OQcAstd'\n",
    "access_token= '1187572531726815238-j06W5hTA2MHN7Ubd4RYMC3vTmdXI9g'\n",
    "access_token_secret= 'mphFfeb80YG7oOIpNbUNukb7azqZtIZu6qiviaF1LokC7'\n",
    "\n",
    "\n",
    "# Authenticating the Twitter credentials\n",
    "auth = tw.OAuthHandler(consumer_key, consumer_secret)\n",
    "auth.set_access_token(access_token, access_token_secret)\n",
    "api = tw.API(auth, wait_on_rate_limit=True)\n",
    "\n",
    "\n",
    "# Defining a list of the given keywords\n",
    "search_words = ['Canada', 'University', 'Dalhousie University', 'Halifax', 'Canada Education']\n",
    "\n",
    "\n",
    "# Extracting and storing Twitter data to the csv file\n",
    "for i in range(0,5):\n",
    "\n",
    "    # Collecting tweets\n",
    "    tweets = tw.Cursor(api.search,\n",
    "                  tweet_mode='extended',\n",
    "                  q=search_words[i],\n",
    "                  lang=\"en\").items(1000)\n",
    "   \n",
    "    # Iterating and storing the tweets\n",
    "    for tweet in tweets:\n",
    "        csvrow = []\n",
    "        csvrow.append(tweet.created_at)\n",
    "        csvrow.append(tweet.user.name)\n",
    "        csvrow.append(tweet.user.location)\n",
    "        \n",
    "        # Logic to access the entire text of the tweets and retweets\n",
    "        string = tweet.full_text\n",
    "        if(string[0] == 'R' and string[1] == 'T' and string[2] == ' ' and string[3] == '@'):\n",
    "            content = (tweet.full_text.split(\":\"))[0] + \": \" + tweet.retweeted_status.full_text\n",
    "            csvrow.append(content)\n",
    "        else:\n",
    "            csvrow.append(tweet.full_text)\n",
    "\n",
    "        # Writing data to the csv file\n",
    "        writer.writerow(csvrow)\n",
    "    \n",
    "    # Indicator to know that storing data for a particular keyword is successfully finished\n",
    "    print(search_words[i],\" Stored\")\n",
    "\n",
    "    \n",
    "# Closing the csv file\n",
    "csvfile.close()\n",
    "\n",
    "\n",
    "# Indicator to know that extracting and storing is finished successfully\n",
    "print(\"Done\")"
   ]
  },
  {
   "cell_type": "code",
   "execution_count": null,
   "metadata": {},
   "outputs": [],
   "source": []
  }
 ],
 "metadata": {
  "kernelspec": {
   "display_name": "Python 3",
   "language": "python",
   "name": "python3"
  },
  "language_info": {
   "codemirror_mode": {
    "name": "ipython",
    "version": 3
   },
   "file_extension": ".py",
   "mimetype": "text/x-python",
   "name": "python",
   "nbconvert_exporter": "python",
   "pygments_lexer": "ipython3",
   "version": "3.6.4"
  }
 },
 "nbformat": 4,
 "nbformat_minor": 2
}
